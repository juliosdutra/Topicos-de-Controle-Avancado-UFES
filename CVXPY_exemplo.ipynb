{
  "nbformat": 4,
  "nbformat_minor": 0,
  "metadata": {
    "colab": {
      "provenance": [],
      "authorship_tag": "ABX9TyPiY860fPHoouVtez13hQWt",
      "include_colab_link": true
    },
    "kernelspec": {
      "name": "python3",
      "display_name": "Python 3"
    },
    "language_info": {
      "name": "python"
    }
  },
  "cells": [
    {
      "cell_type": "markdown",
      "metadata": {
        "id": "view-in-github",
        "colab_type": "text"
      },
      "source": [
        "<a href=\"https://colab.research.google.com/github/juliosdutra/Topicos-de-Controle-Avancado-UFES/blob/main/CVXPY_exemplo.ipynb\" target=\"_parent\"><img src=\"https://colab.research.google.com/assets/colab-badge.svg\" alt=\"Open In Colab\"/></a>"
      ]
    },
    {
      "cell_type": "code",
      "execution_count": 1,
      "metadata": {
        "colab": {
          "base_uri": "https://localhost:8080/"
        },
        "id": "2FddzShVxDyQ",
        "outputId": "30a0a332-e962-4da8-bb98-15120d3fe947"
      },
      "outputs": [
        {
          "output_type": "stream",
          "name": "stdout",
          "text": [
            "[-1.79109253e-19  2.85112420e-02  2.79973443e-19  3.37658751e-20\n",
            " -2.72802659e-19  1.49285011e-01 -9.97212062e-20  8.35373892e-20\n",
            "  2.46718649e-01  5.78224144e-01 -4.03739462e-19  1.01242860e-03\n",
            " -9.28486200e-20  2.26767464e-01 -1.58813677e-19 -8.97232308e-20\n",
            " -1.22145726e-19 -1.51509432e-19  1.12060673e-19 -3.48318630e-19]\n",
            "[ 2.50938945  0.          2.78354615  1.79425782 13.08579183  0.\n",
            "  0.73716363  3.35344995  0.          0.          8.93825054  0.\n",
            "  7.02955161  0.          4.71068649  3.18873635  2.06090107 10.08166738\n",
            "  3.0481157   8.53268239]\n"
          ]
        }
      ],
      "source": [
        "import cvxpy as cp\n",
        "import numpy as np\n",
        "\n",
        "# Problem data.\n",
        "m = 30\n",
        "n = 20\n",
        "np.random.seed(1)\n",
        "A = np.random.randn(m, n)\n",
        "b = np.random.randn(m)\n",
        "\n",
        "# Construct the problem.\n",
        "x = cp.Variable(n)\n",
        "objective = cp.Minimize(cp.sum_squares(A @ x - b))\n",
        "constraints = [0 <= x, x <= 1]\n",
        "prob = cp.Problem(objective, constraints)\n",
        "\n",
        "# The optimal objective value is returned by `prob.solve()`.\n",
        "result = prob.solve()\n",
        "# The optimal value for x is stored in `x.value`.\n",
        "print(x.value)\n",
        "# The optimal Lagrange multiplier for a constraint is stored in\n",
        "# `constraint.dual_value`.\n",
        "print(constraints[0].dual_value)"
      ]
    },
    {
      "cell_type": "code",
      "source": [
        "x"
      ],
      "metadata": {
        "id": "-a5kV7KJxbux",
        "outputId": "c2a26683-b9a0-4a79-d410-71d1255f749a",
        "colab": {
          "base_uri": "https://localhost:8080/"
        }
      },
      "execution_count": 2,
      "outputs": [
        {
          "output_type": "execute_result",
          "data": {
            "text/plain": [
              "Variable((20,))"
            ]
          },
          "metadata": {},
          "execution_count": 2
        }
      ]
    },
    {
      "cell_type": "code",
      "source": [],
      "metadata": {
        "id": "QEHftFzYxcFw"
      },
      "execution_count": null,
      "outputs": []
    }
  ]
}