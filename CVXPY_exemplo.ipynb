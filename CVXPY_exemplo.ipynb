{
  "nbformat": 4,
  "nbformat_minor": 0,
  "metadata": {
    "colab": {
      "provenance": [],
      "authorship_tag": "ABX9TyNwW4pwoyE2r1lc4ADCLkb8",
      "include_colab_link": true
    },
    "kernelspec": {
      "name": "python3",
      "display_name": "Python 3"
    },
    "language_info": {
      "name": "python"
    }
  },
  "cells": [
    {
      "cell_type": "markdown",
      "metadata": {
        "id": "view-in-github",
        "colab_type": "text"
      },
      "source": [
        "<a href=\"https://colab.research.google.com/github/juliosdutra/Topicos-de-Controle-Avancado-UFES/blob/main/CVXPY_exemplo.ipynb\" target=\"_parent\"><img src=\"https://colab.research.google.com/assets/colab-badge.svg\" alt=\"Open In Colab\"/></a>"
      ]
    },
    {
      "cell_type": "code",
      "execution_count": 12,
      "metadata": {
        "colab": {
          "base_uri": "https://localhost:8080/"
        },
        "id": "2FddzShVxDyQ",
        "outputId": "b851c843-41c0-4e0a-ddf1-5f2e8d61d2f3"
      },
      "outputs": [
        {
          "output_type": "stream",
          "name": "stdout",
          "text": [
            "[-1.79109253e-19  2.85112420e-02  2.79973443e-19  3.37658751e-20\n",
            " -2.72802659e-19  1.49285011e-01 -9.97212062e-20  8.35373892e-20\n",
            "  2.46718649e-01  5.78224144e-01 -4.03739462e-19  1.01242860e-03\n",
            " -9.28486200e-20  2.26767464e-01 -1.58813677e-19 -8.97232308e-20\n",
            " -1.22145726e-19 -1.51509432e-19  1.12060673e-19 -3.48318630e-19]\n",
            "[ 2.50938945  0.          2.78354615  1.79425782 13.08579183  0.\n",
            "  0.73716363  3.35344995  0.          0.          8.93825054  0.\n",
            "  7.02955161  0.          4.71068649  3.18873635  2.06090107 10.08166738\n",
            "  3.0481157   8.53268239]\n"
          ]
        }
      ],
      "source": [
        "import cvxpy as cp\n",
        "import numpy as np\n",
        "\n",
        "# Problem data.\n",
        "m = 30\n",
        "n = 20\n",
        "np.random.seed(1)\n",
        "A = np.random.randn(m, n)\n",
        "b = np.random.randn(m)\n",
        "\n",
        "# Construct the problem.\n",
        "x = cp.Variable(n)\n",
        "objective = cp.Minimize(cp.sum_squares(A @ x - b))\n",
        "constraints = [0 <= x, x <= 1]\n",
        "prob = cp.Problem(objective, constraints)\n",
        "\n",
        "# The optimal objective value is returned by `prob.solve()`.\n",
        "result = prob.solve()\n",
        "# The optimal value for x is stored in `x.value`.\n",
        "print(x.value)\n",
        "# The optimal Lagrange multiplier for a constraint is stored in\n",
        "# `constraint.dual_value`.\n",
        "print(constraints[0].dual_value)"
      ]
    },
    {
      "cell_type": "code",
      "source": [
        "result"
      ],
      "metadata": {
        "colab": {
          "base_uri": "https://localhost:8080/"
        },
        "id": "f_KpODuXyC8P",
        "outputId": "e2f57e2d-97f7-4974-b462-2d348bb43342"
      },
      "execution_count": 10,
      "outputs": [
        {
          "output_type": "execute_result",
          "data": {
            "text/plain": [
              "19.83126370644502"
            ]
          },
          "metadata": {},
          "execution_count": 10
        }
      ]
    },
    {
      "cell_type": "code",
      "source": [
        "cp.sum_squares(A @ x.value - b)"
      ],
      "metadata": {
        "colab": {
          "base_uri": "https://localhost:8080/"
        },
        "id": "-a5kV7KJxbux",
        "outputId": "4f95f575-47ce-4d7c-b271-c57dd5524461"
      },
      "execution_count": 11,
      "outputs": [
        {
          "output_type": "execute_result",
          "data": {
            "text/plain": [
              "Expression(CONSTANT, NONNEGATIVE, ())"
            ]
          },
          "metadata": {},
          "execution_count": 11
        }
      ]
    },
    {
      "cell_type": "code",
      "source": [
        "# Generate data.\n",
        "m = 20\n",
        "n = 15\n",
        "np.random.seed(1)\n",
        "A = np.random.randn(m, n)\n",
        "b = np.random.randn(m)\n",
        "\n",
        "# Define and solve the CVXPY problem.\n",
        "x = cp.Variable(n)\n",
        "cost = cp.sum_squares(A @ x - b)\n",
        "prob = cp.Problem(cp.Minimize(cost))\n",
        "prob.solve()\n",
        "\n",
        "# Print result.\n",
        "print(\"\\nThe optimal value is\", prob.value)\n",
        "print(\"The optimal x is\")\n",
        "print(x.value)\n",
        "print(\"The norm of the residual is \", cp.norm(A @ x - b, p=2).value)"
      ],
      "metadata": {
        "colab": {
          "base_uri": "https://localhost:8080/"
        },
        "id": "QEHftFzYxcFw",
        "outputId": "d06315a7-ede5-4821-b9e5-f352166f67cf"
      },
      "execution_count": 18,
      "outputs": [
        {
          "output_type": "stream",
          "name": "stdout",
          "text": [
            "\n",
            "The optimal value is 7.005909828287485\n",
            "The optimal x is\n",
            "[ 0.17492418 -0.38102551  0.34732251  0.0173098  -0.0845784  -0.08134019\n",
            "  0.293119    0.27019762  0.17493179 -0.23953449  0.64097935 -0.41633637\n",
            "  0.12799688  0.1063942  -0.32158411]\n",
            "The norm of the residual is  2.6468679280023557\n"
          ]
        }
      ]
    },
    {
      "cell_type": "code",
      "source": [
        "A @ x.value - b"
      ],
      "metadata": {
        "colab": {
          "base_uri": "https://localhost:8080/"
        },
        "id": "uC2Q_hQh02NJ",
        "outputId": "d8772665-1dc4-4478-a088-afab65b5dccb"
      },
      "execution_count": 19,
      "outputs": [
        {
          "output_type": "execute_result",
          "data": {
            "text/plain": [
              "array([ 0.13290753,  0.82586174,  0.8279838 ,  0.81993496,  0.56335095,\n",
              "       -1.54535672, -0.75186573, -0.74211529,  0.13577479,  0.06968859,\n",
              "        0.24388544, -0.05408503, -0.43754664, -0.30134447, -0.45507948,\n",
              "       -0.51858895, -0.33324642, -0.03877679,  0.00993338,  0.41252753])"
            ]
          },
          "metadata": {},
          "execution_count": 19
        }
      ]
    }
  ]
}